{
 "cells": [
  {
   "cell_type": "markdown",
   "metadata": {},
   "source": [
    "# Bunny Population Modeling (aka Fibonacci numbers)"
   ]
  },
  {
   "cell_type": "markdown",
   "metadata": {},
   "source": [
    "Fibonacci's original idea was modeling the bunny population\n",
    "* Start with 1 (M, F) pair of bunnies\n",
    "* All bunies are fully grown after 1 month\n",
    "* All fully grown bunnies reproduce every month - always 1 new (M,F) pair\n",
    "\n",
    "In other words:\n",
    "* All bunnies existing in previous month still exist next month\n",
    "* Any bunny pairs existing in month before previous month will\n",
    "  be mature and reproduce new pair of bunnies\n",
    "  \n",
    "Giving:\n",
    "$$P(n) = P(n-1) + P(n-2)$$\n",
    "which produces Fibonacci sequence:\n",
    "$$1, 1, 2, 3, 5, 8, \\ldots$$"
   ]
  },
  {
   "cell_type": "markdown",
   "metadata": {},
   "source": [
    "## Iterative Implementation\n",
    "Assumes 1-based numbering of months (or sequence index)"
   ]
  },
  {
   "cell_type": "code",
   "execution_count": 8,
   "metadata": {},
   "outputs": [],
   "source": [
    "def fib(n):\n",
    "    cur = 1\n",
    "    prev = 1\n",
    "    for i in range(2,n):\n",
    "        temp = cur\n",
    "        cur = cur + prev\n",
    "        prev = temp\n",
    "    return cur"
   ]
  },
  {
   "cell_type": "markdown",
   "metadata": {},
   "source": [
    "### Confirming results\n",
    "Check a few values to confirm"
   ]
  },
  {
   "cell_type": "code",
   "execution_count": 10,
   "metadata": {},
   "outputs": [
    {
     "name": "stdout",
     "output_type": "stream",
     "text": [
      "fib(3) =  2\n",
      "fib(6) =  8\n"
     ]
    }
   ],
   "source": [
    "print 'fib(3) = ', fibonacci(3)\n",
    "print 'fib(6) = ', fibonacci(6)"
   ]
  },
  {
   "cell_type": "markdown",
   "metadata": {},
   "source": [
    "## Recursive Implementation\n",
    "Recall:\n",
    "$$P(n) = P(n-1) + P(n-2)$$\n",
    "which leads naturally to recursion."
   ]
  },
  {
   "cell_type": "code",
   "execution_count": 11,
   "metadata": {},
   "outputs": [],
   "source": [
    "def fib(n):\n",
    "    if n == 1 or n == 2:\n",
    "        return 1\n",
    "    else:\n",
    "        return fib(n-1) + fib(n-2)"
   ]
  },
  {
   "cell_type": "markdown",
   "metadata": {},
   "source": [
    "### Confirming results\n",
    "Again, check a few to confirm"
   ]
  },
  {
   "cell_type": "code",
   "execution_count": 12,
   "metadata": {},
   "outputs": [
    {
     "name": "stdout",
     "output_type": "stream",
     "text": [
      "fib(3) =  2\n",
      "fib(6) =  8\n"
     ]
    }
   ],
   "source": [
    "print 'fib(3) = ', fib(3)\n",
    "print 'fib(6) = ', fib(6)"
   ]
  },
  {
   "cell_type": "markdown",
   "metadata": {},
   "source": [
    "## How does cost compare to iterative formulation?"
   ]
  },
  {
   "cell_type": "code",
   "execution_count": null,
   "metadata": {},
   "outputs": [],
   "source": []
  }
 ],
 "metadata": {
  "kernelspec": {
   "display_name": "Python 2",
   "language": "python",
   "name": "python2"
  },
  "language_info": {
   "codemirror_mode": {
    "name": "ipython",
    "version": 2
   },
   "file_extension": ".py",
   "mimetype": "text/x-python",
   "name": "python",
   "nbconvert_exporter": "python",
   "pygments_lexer": "ipython2",
   "version": "2.7.14"
  }
 },
 "nbformat": 4,
 "nbformat_minor": 2
}
