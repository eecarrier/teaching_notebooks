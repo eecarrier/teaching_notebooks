{
 "cells": [
  {
   "cell_type": "markdown",
   "metadata": {},
   "source": [
    "# Binary Search\n",
    "Recall binary search is an algorithm for searching for a given number in a sorted array.\n",
    "\n",
    "## Iterative Implementation"
   ]
  },
  {
   "cell_type": "code",
   "execution_count": 24,
   "metadata": {},
   "outputs": [],
   "source": [
    "def binary_search(data, val):\n",
    "    low_idx = 0\n",
    "    high_idx = len(data)-1\n",
    "    while low_idx <= high_idx:\n",
    "        if val < data[low_idx] or val > data[high_idx]:\n",
    "            return -1\n",
    "        mid_idx = (low_idx + high_idx)//2\n",
    "        if val < data[mid_idx]:\n",
    "            high_idx = mid_idx\n",
    "        elif val > data[mid_idx]:\n",
    "            low_idx = mid_idx + 1\n",
    "        else:\n",
    "            return mid_idx\n",
    "    return -1"
   ]
  },
  {
   "cell_type": "code",
   "execution_count": 32,
   "metadata": {},
   "outputs": [
    {
     "name": "stdout",
     "output_type": "stream",
     "text": [
      "0 5\n",
      "0 5 2\n",
      "3 5 4\n",
      "3 4 3\n",
      "3\n"
     ]
    }
   ],
   "source": [
    "xlist = [1,3,5,8,12,100]\n",
    "x = 8\n",
    "print binary_search(xlist, x) "
   ]
  },
  {
   "cell_type": "markdown",
   "metadata": {},
   "source": [
    "## Recursive Implementation\n",
    "Give it a go!"
   ]
  },
  {
   "cell_type": "code",
   "execution_count": null,
   "metadata": {},
   "outputs": [],
   "source": []
  }
 ],
 "metadata": {
  "kernelspec": {
   "display_name": "Python 2",
   "language": "python",
   "name": "python2"
  },
  "language_info": {
   "codemirror_mode": {
    "name": "ipython",
    "version": 2
   },
   "file_extension": ".py",
   "mimetype": "text/x-python",
   "name": "python",
   "nbconvert_exporter": "python",
   "pygments_lexer": "ipython2",
   "version": "2.7.14"
  }
 },
 "nbformat": 4,
 "nbformat_minor": 2
}
