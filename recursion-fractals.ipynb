{
 "cells": [
  {
   "cell_type": "markdown",
   "metadata": {},
   "source": [
    "# Fractals\n",
    "### Definition\n",
    "A curve or geometric figure, each part of which has the same statistical character as the whole.\n",
    "\n",
    "### Who cares?\n",
    "* Used to model natural processes\n",
    "* Produce cool pictures! (https://en.wikipedia.org/wiki/Fractal_art)\n",
    "\n",
    "### Why are we talking about them?\n",
    "* We'll look at drawing fractals as it's a very natural recursive implementation"
   ]
  },
  {
   "cell_type": "markdown",
   "metadata": {},
   "source": [
    "### How can we draw?\n",
    "We'll use turtle graphics.  Regular turtle doesn't work in ipython\n",
    "notebooks though, so we'll use a package that adapts for ipython\n",
    "notebooks.\n",
    "\n",
    "We are just using a pen that can move, lift up/down, and change direction.\n",
    "\n",
    "### Basic example:"
   ]
  },
  {
   "cell_type": "code",
   "execution_count": 22,
   "metadata": {},
   "outputs": [
    {
     "data": {
      "application/vnd.jupyter.widget-view+json": {
       "model_id": "694cc7a01020422baa3b2925ac37d72c",
       "version_major": 2,
       "version_minor": 0
      },
      "text/plain": [
       "Turtle()"
      ]
     },
     "metadata": {},
     "output_type": "display_data"
    }
   ],
   "source": [
    "from mobilechelonian import Turtle \n",
    "\n",
    "t = Turtle()\n",
    "t.left(90) # change direction\n",
    "t.penup()\n",
    "t.backward(150) # move\n",
    "t.pendown()\n",
    "t.pencolor(\"black\")\n",
    "t.forward(120) # move"
   ]
  },
  {
   "cell_type": "markdown",
   "metadata": {},
   "source": [
    "## Drawing a fractal tree\n",
    "Use recursion:  draw a branch by drawing it's branches..."
   ]
  },
  {
   "cell_type": "code",
   "execution_count": 56,
   "metadata": {},
   "outputs": [
    {
     "data": {
      "application/vnd.jupyter.widget-view+json": {
       "model_id": "bb5f65cf8c82417785a9148b26ec0f5a",
       "version_major": 2,
       "version_minor": 0
      },
      "text/plain": [
       "Turtle()"
      ]
     },
     "metadata": {},
     "output_type": "display_data"
    }
   ],
   "source": [
    "t = Turtle()\n",
    "t.penup()\n",
    "t.left(90)\n",
    "t.backward(150)\n",
    "\n",
    "def draw_tree(bdepth, length, angle):\n",
    "    t.pendown()\n",
    "    t.forward(length)\n",
    "    t.penup()\n",
    "    if bdepth == 1:\n",
    "        t.backward(length)\n",
    "        return None\n",
    "    else:  \n",
    "        t.left(angle)\n",
    "        draw_tree(bdepth-1, length/1.5, angle)\n",
    "        t.right(angle)\n",
    "        \n",
    "        t.right(angle)\n",
    "        draw_tree(bdepth-1, length/1.5, angle)\n",
    "        t.left(angle)\n",
    "        t.backward(length)\n",
    "        \n",
    "draw_tree(5, 120, 30)"
   ]
  },
  {
   "cell_type": "markdown",
   "metadata": {},
   "source": [
    "Can change parameters and see how it affects treee.\n",
    "\n",
    "Another common modification is to additionally\n",
    "decrease weight of line as it recurses down\n",
    "to give more treelike appearance (trunk is\n",
    "thickest, branches closer to trunk are thicker\n",
    "than other branches)"
   ]
  },
  {
   "cell_type": "markdown",
   "metadata": {},
   "source": [
    "## Drawing a Koch snowflake\n",
    "\n",
    "Snowflake where each of the 3 sides of an equilateral triangle\n",
    "is a Koch curve.  Start by drawing Koch curve for each edge,\n",
    "and drawing Koch curve is a recursive process.\n",
    "\n",
    "Some references on Koch snowflakes and curves\n",
    "* https://en.wikipedia.org/wiki/Koch_snowflake\n",
    "* http://mathworld.wolfram.com/KochSnowflake.html\n"
   ]
  },
  {
   "cell_type": "code",
   "execution_count": 81,
   "metadata": {},
   "outputs": [
    {
     "data": {
      "application/vnd.jupyter.widget-view+json": {
       "model_id": "c04fcd5983184ad39bc2f5acc8bd3447",
       "version_major": 2,
       "version_minor": 0
      },
      "text/plain": [
       "Turtle()"
      ]
     },
     "metadata": {},
     "output_type": "display_data"
    }
   ],
   "source": [
    "t = Turtle()\n",
    "t.penup()\n",
    "t.backward(90)\n",
    "t.left(90)\n",
    "t.forward(60)\n",
    "t.right(90)\n",
    "t.pendown()\n",
    "\n",
    "def draw_koch_snowflake(order, length):\n",
    "    draw_koch_curve(order, length)\n",
    "    t.right(120)\n",
    "    draw_koch_curve(order, length)\n",
    "    t.right(120)\n",
    "    draw_koch_curve(order, length)\n",
    "\n",
    "def draw_koch_curve(order, length):\n",
    "    if order == 1:\n",
    "        t.forward(length)\n",
    "    else:\n",
    "        draw_koch_curve(order-1, length/3.0)\n",
    "        t.left(60)\n",
    "        draw_koch_curve(order-1, length/3.0)\n",
    "        t.right(120)\n",
    "        draw_koch_curve(order-1, length/3.0)\n",
    "        t.left(60)\n",
    "        draw_koch_curve(order-1, length/3.0)\n",
    "        \n",
    "draw_koch_snowflake(3, 180)"
   ]
  }
 ],
 "metadata": {
  "kernelspec": {
   "display_name": "Python 2",
   "language": "python",
   "name": "python2"
  },
  "language_info": {
   "codemirror_mode": {
    "name": "ipython",
    "version": 2
   },
   "file_extension": ".py",
   "mimetype": "text/x-python",
   "name": "python",
   "nbconvert_exporter": "python",
   "pygments_lexer": "ipython2",
   "version": "2.7.14"
  }
 },
 "nbformat": 4,
 "nbformat_minor": 2
}
